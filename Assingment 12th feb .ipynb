{
 "cells": [
  {
   "cell_type": "markdown",
   "id": "4859bd71-f97a-4698-a91d-2cbbd5351a4b",
   "metadata": {},
   "source": [
    "# Q1. What is an Exception in python ? Write the difference between Exception and Syntax errors.\n"
   ]
  },
  {
   "cell_type": "markdown",
   "id": "db025ba1-7127-4df0-8afa-bd08047b4d8e",
   "metadata": {},
   "source": [
    " Answer : Exception is an error that occour during the excution of the program . and Syntax errors are those errors which encounter by the interpreter found as error in the code. \n",
    " exception ek error hota hai jo ki program ke exutation ke samay pr hota hai . and  Syntax error interpreter ke dwara encounter kiya jata hai jb  code me error aata hai . "
   ]
  },
  {
   "cell_type": "markdown",
   "id": "ad5240c3-f23d-43de-83ee-8f6e4499a323",
   "metadata": {
    "tags": []
   },
   "source": [
    "# Q2. what happens when an exception is not handled ? Explain with an example.\n",
    "\n",
    "Answer: when an exception is not handled then interpreter rise an exception error.\n",
    "for example : if i will try to read those file which is not created by me then interpreter will rise an exception error."
   ]
  },
  {
   "cell_type": "code",
   "execution_count": 3,
   "id": "9a8cbe06-bb42-413a-8050-cc4ccde53857",
   "metadata": {
    "tags": []
   },
   "outputs": [
    {
     "ename": "FileNotFoundError",
     "evalue": "[Errno 2] No such file or directory: 'file.new.txt'",
     "output_type": "error",
     "traceback": [
      "\u001b[0;31m---------------------------------------------------------------------------\u001b[0m",
      "\u001b[0;31mFileNotFoundError\u001b[0m                         Traceback (most recent call last)",
      "Cell \u001b[0;32mIn[3], line 2\u001b[0m\n\u001b[1;32m      1\u001b[0m \u001b[38;5;66;03m#just like it \u001b[39;00m\n\u001b[0;32m----> 2\u001b[0m f \u001b[38;5;241m=\u001b[39m \u001b[38;5;28;43mopen\u001b[39;49m\u001b[43m(\u001b[49m\u001b[38;5;124;43m\"\u001b[39;49m\u001b[38;5;124;43mfile.new.txt\u001b[39;49m\u001b[38;5;124;43m\"\u001b[39;49m\u001b[43m,\u001b[49m\u001b[38;5;124;43m'\u001b[39;49m\u001b[38;5;124;43mr\u001b[39;49m\u001b[38;5;124;43m'\u001b[39;49m\u001b[43m)\u001b[49m\n\u001b[1;32m      3\u001b[0m \u001b[38;5;28mprint\u001b[39m(f\u001b[38;5;241m.\u001b[39mread())\n",
      "File \u001b[0;32m/opt/conda/lib/python3.10/site-packages/IPython/core/interactiveshell.py:282\u001b[0m, in \u001b[0;36m_modified_open\u001b[0;34m(file, *args, **kwargs)\u001b[0m\n\u001b[1;32m    275\u001b[0m \u001b[38;5;28;01mif\u001b[39;00m file \u001b[38;5;129;01min\u001b[39;00m {\u001b[38;5;241m0\u001b[39m, \u001b[38;5;241m1\u001b[39m, \u001b[38;5;241m2\u001b[39m}:\n\u001b[1;32m    276\u001b[0m     \u001b[38;5;28;01mraise\u001b[39;00m \u001b[38;5;167;01mValueError\u001b[39;00m(\n\u001b[1;32m    277\u001b[0m         \u001b[38;5;124mf\u001b[39m\u001b[38;5;124m\"\u001b[39m\u001b[38;5;124mIPython won\u001b[39m\u001b[38;5;124m'\u001b[39m\u001b[38;5;124mt let you open fd=\u001b[39m\u001b[38;5;132;01m{\u001b[39;00mfile\u001b[38;5;132;01m}\u001b[39;00m\u001b[38;5;124m by default \u001b[39m\u001b[38;5;124m\"\u001b[39m\n\u001b[1;32m    278\u001b[0m         \u001b[38;5;124m\"\u001b[39m\u001b[38;5;124mas it is likely to crash IPython. If you know what you are doing, \u001b[39m\u001b[38;5;124m\"\u001b[39m\n\u001b[1;32m    279\u001b[0m         \u001b[38;5;124m\"\u001b[39m\u001b[38;5;124myou can use builtins\u001b[39m\u001b[38;5;124m'\u001b[39m\u001b[38;5;124m open.\u001b[39m\u001b[38;5;124m\"\u001b[39m\n\u001b[1;32m    280\u001b[0m     )\n\u001b[0;32m--> 282\u001b[0m \u001b[38;5;28;01mreturn\u001b[39;00m \u001b[43mio_open\u001b[49m\u001b[43m(\u001b[49m\u001b[43mfile\u001b[49m\u001b[43m,\u001b[49m\u001b[43m \u001b[49m\u001b[38;5;241;43m*\u001b[39;49m\u001b[43margs\u001b[49m\u001b[43m,\u001b[49m\u001b[43m \u001b[49m\u001b[38;5;241;43m*\u001b[39;49m\u001b[38;5;241;43m*\u001b[39;49m\u001b[43mkwargs\u001b[49m\u001b[43m)\u001b[49m\n",
      "\u001b[0;31mFileNotFoundError\u001b[0m: [Errno 2] No such file or directory: 'file.new.txt'"
     ]
    }
   ],
   "source": [
    "#just like it \n",
    "f = open(\"file.new.txt\",'r')\n",
    "print(f.read())"
   ]
  },
  {
   "cell_type": "markdown",
   "id": "99a293b9-6440-43c1-9f61-ad69cf31784d",
   "metadata": {},
   "source": [
    "# Q3.Which python statements are used to catch and handle exceptions ? Explain with an example."
   ]
  },
  {
   "cell_type": "markdown",
   "id": "f721829a-321e-4c2c-9b58-bdb92b2f80bc",
   "metadata": {},
   "source": [
    "# Answer: try statement is used to catch exception and except statement is used to handle exception."
   ]
  },
  {
   "cell_type": "code",
   "execution_count": 73,
   "id": "c9d01cfb-324c-47a5-9a1d-3231797d1dbe",
   "metadata": {},
   "outputs": [
    {
     "name": "stdin",
     "output_type": "stream",
     "text": [
      "Enter your age:  7\n"
     ]
    },
    {
     "name": "stdout",
     "output_type": "stream",
     "text": [
      "Too low :Your age is 7 \n",
      "sorry you cann't stay here anymore\n"
     ]
    }
   ],
   "source": [
    "# for example of catch and handle exception.\n",
    "try:\n",
    "    Age = int(input(\"Enter your age: \"))\n",
    "    if Age < 18:\n",
    "        print(f\"Too low :Your age is {Age} \")\n",
    "    elif Age >= 50:\n",
    "        print(\"Your age is too much Cannot Join the Godlike lineup Team\")\n",
    "        \n",
    "        \n",
    "        \n",
    "    else:\n",
    "        print(f\"congratulations: your age is {Age} You can Join the Godlike lineup Team\")\n",
    "        \n",
    "        \n",
    "        \n",
    "    \n",
    "except Exception :\n",
    "    print(\"Enter a valid AGE\")\n",
    "\n",
    "    \n",
    "    \n",
    "    \n",
    "finally:\n",
    "    \n",
    "    if Age < 18:\n",
    "        print(\"sorry you cann't stay here anymore\")\n",
    "    elif Age >= 50:\n",
    "        print(\"Your age is too much Cannot Join the Godlike lineup Team\")\n",
    "    else:\n",
    "        print(f\"Finally: you are selected . You can Join the Godlike lineup Team\")\n",
    "        "
   ]
  },
  {
   "cell_type": "markdown",
   "id": "6b1a296f-da36-4c29-bc80-9a223405118a",
   "metadata": {},
   "source": [
    "# Q4. Explain with an exmple:\n",
    "# a.try and else\n",
    "# b.finally \n",
    "# c. raise"
   ]
  },
  {
   "cell_type": "code",
   "execution_count": 95,
   "id": "c5a29175-8db6-43bb-9cda-834df188ffb7",
   "metadata": {},
   "outputs": [
    {
     "name": "stdin",
     "output_type": "stream",
     "text": [
      "Enter your age:  45\n"
     ]
    },
    {
     "name": "stdout",
     "output_type": "stream",
     "text": [
      "Congratulations: Your age is 45. You can Join the Godlike lineup Team\n",
      "Finally: You are selected. You can Join the Godlike lineup Team\n"
     ]
    }
   ],
   "source": [
    "try:\n",
    "    Age = int(input(\"Enter your age: \"))\n",
    "    if Age < 18:\n",
    "        print(f\"Too low: Your age is {Age}\")\n",
    "    elif Age >= 50:\n",
    "        print(\"Your age is too much. Cannot Join the Godlike lineup Team\")\n",
    "    else:\n",
    "        print(f\"Congratulations: Your age is {Age}. You can Join the Godlike lineup Team\")\n",
    "except ValueError:\n",
    "    print(\"Enter a valid age\")\n",
    "finally:\n",
    "    try:\n",
    "        if Age < 18:\n",
    "            print(\"Sorry, you can't stay here anymore\")\n",
    "            raise Exception(\"Invalid Age: Age is too low\")\n",
    "        elif Age >= 50:\n",
    "            print(\"Your age is too much. Cannot Join the Godlike lineup Team\")\n",
    "            raise Exception(\"Invalid Age: Age is too high\")\n",
    "        else:\n",
    "            print(f\"Finally: You are selected. You can Join the Godlike lineup Team\")\n",
    "    except Exception as e:\n",
    "        print(f\"Exception caught: {str(e)}\")\n"
   ]
  },
  {
   "cell_type": "markdown",
   "id": "2240e680-9fc8-4153-9708-7a4d82fb3e4b",
   "metadata": {},
   "source": [
    "# Q5. What are custom Exceptions in python ? why do we need Custom Exceptions ? explain with an example."
   ]
  },
  {
   "cell_type": "code",
   "execution_count": null,
   "id": "408cba38-d264-46d1-b9d9-fc1463538532",
   "metadata": {},
   "outputs": [],
   "source": [
    "custom exception are user defined exception which is drived from built in exception.\n",
    "that allow us to create and raise your own types of exceptions. They provide semantic\n",
    "clarity, categorization of error , and exception - specific  handling \n",
    "by creating custom exceptions you can improve code readability,handle specific erros \n",
    "conditions and \n"
   ]
  },
  {
   "cell_type": "markdown",
   "id": "37bd414a-a8fc-4df3-9267-00145cdd83e1",
   "metadata": {},
   "source": [
    "# Q6. Create a custom exception class. Use this class to handle an exception."
   ]
  },
  {
   "cell_type": "code",
   "execution_count": 83,
   "id": "34117e3e-7037-420a-8e01-0a261468df3c",
   "metadata": {},
   "outputs": [
    {
     "name": "stdin",
     "output_type": "stream",
     "text": [
      "Enter your age:  45\n"
     ]
    },
    {
     "name": "stdout",
     "output_type": "stream",
     "text": [
      " You are not under age so  Play BGMI, congratulations! Play and enjoy the game!\n"
     ]
    }
   ],
   "source": [
    "try:\n",
    "    Your_Age = int(input(\"Enter your age: \"))\n",
    "    if Your_Age < 18:\n",
    "        print(f\"Low: Your age is {Your_Age}. Get permission from your family to play BGMI.\")\n",
    "    elif Your_Age >= 18:\n",
    "        print(\" You are not under age so  Play BGMI, congratulations! Play and enjoy the game!\")\n",
    "    elif Your_Age >= 50:\n",
    "        print(\"Your age is too much. You don't need any type of permission. Enjoy the game!\")\n",
    "    else:\n",
    "        print(\"If you have permission to play BGMI, congratulations! Play and enjoy the game!\")\n",
    "except Exception:\n",
    "    print(\"Enter a valid age.\")\n"
   ]
  },
  {
   "cell_type": "code",
   "execution_count": null,
   "id": "408e36e2-e7cf-4497-b990-e65de097a265",
   "metadata": {},
   "outputs": [],
   "source": []
  }
 ],
 "metadata": {
  "kernelspec": {
   "display_name": "Python 3 (ipykernel)",
   "language": "python",
   "name": "python3"
  },
  "language_info": {
   "codemirror_mode": {
    "name": "ipython",
    "version": 3
   },
   "file_extension": ".py",
   "mimetype": "text/x-python",
   "name": "python",
   "nbconvert_exporter": "python",
   "pygments_lexer": "ipython3",
   "version": "3.10.8"
  }
 },
 "nbformat": 4,
 "nbformat_minor": 5
}
